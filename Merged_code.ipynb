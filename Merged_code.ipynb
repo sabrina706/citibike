{
 "cells": [
  {
   "cell_type": "code",
   "execution_count": 1,
   "id": "8c9e9441-a077-44f3-869f-a5a8f420095d",
   "metadata": {},
   "outputs": [
    {
     "name": "stdout",
     "output_type": "stream",
     "text": [
      "Merged file saved as: C:\\Users\\sabri\\OneDrive\\Desktop\\citibike\\Merged_Citibike_Data.csv\n"
     ]
    }
   ],
   "source": [
    "import pandas as pd\n",
    "\n",
    "# List of CSV files to merge\n",
    "csv_files = [\n",
    "    r\"C:\\Users\\sabri\\OneDrive\\Desktop\\citibike\\JC-202010-citibike-tripdata.csv\",\n",
    "    r\"C:\\Users\\sabri\\OneDrive\\Desktop\\citibike\\JC-202011-citibike-tripdata.csv\",\n",
    "    r\"C:\\Users\\sabri\\OneDrive\\Desktop\\citibike\\JC-202012-citibike-tripdata.csv\"\n",
    "]\n",
    "\n",
    "# Read and concatenate all CSVs\n",
    "df_list = [pd.read_csv(file) for file in csv_files]\n",
    "merged_df = pd.concat(df_list, ignore_index=True)\n",
    "\n",
    "# Save the merged CSV file\n",
    "output_file = r\"C:\\Users\\sabri\\OneDrive\\Desktop\\citibike\\Merged_Citibike_Data.csv\"\n",
    "merged_df.to_csv(output_file, index=False)\n",
    "\n",
    "print(f\"Merged file saved as: {output_file}\")\n"
   ]
  },
  {
   "cell_type": "code",
   "execution_count": null,
   "id": "5a0d5f34-8b22-43be-8583-062ceb9d53aa",
   "metadata": {},
   "outputs": [],
   "source": []
  }
 ],
 "metadata": {
  "kernelspec": {
   "display_name": "Python 3 (ipykernel)",
   "language": "python",
   "name": "python3"
  },
  "language_info": {
   "codemirror_mode": {
    "name": "ipython",
    "version": 3
   },
   "file_extension": ".py",
   "mimetype": "text/x-python",
   "name": "python",
   "nbconvert_exporter": "python",
   "pygments_lexer": "ipython3",
   "version": "3.12.4"
  }
 },
 "nbformat": 4,
 "nbformat_minor": 5
}
